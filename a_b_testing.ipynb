{
 "cells": [
  {
   "cell_type": "code",
   "execution_count": 6,
   "id": "18585b02",
   "metadata": {},
   "outputs": [],
   "source": [
    "import pandas as pd\n",
    "from scipy.stats import shapiro, mannwhitneyu\n",
    "import numpy as np\n",
    "import matplotlib.pyplot as plt"
   ]
  },
  {
   "cell_type": "code",
   "execution_count": 7,
   "id": "ec24a4f8",
   "metadata": {},
   "outputs": [
    {
     "data": {
      "text/plain": [
       "<Figure size 864x576 with 0 Axes>"
      ]
     },
     "metadata": {},
     "output_type": "display_data"
    }
   ],
   "source": [
    "plt.figure(figsize=(12, 8));"
   ]
  },
  {
   "cell_type": "code",
   "execution_count": 8,
   "id": "537e565c",
   "metadata": {},
   "outputs": [
    {
     "data": {
      "text/html": [
       "<div>\n",
       "<style scoped>\n",
       "    .dataframe tbody tr th:only-of-type {\n",
       "        vertical-align: middle;\n",
       "    }\n",
       "\n",
       "    .dataframe tbody tr th {\n",
       "        vertical-align: top;\n",
       "    }\n",
       "\n",
       "    .dataframe thead th {\n",
       "        text-align: right;\n",
       "    }\n",
       "</style>\n",
       "<table border=\"1\" class=\"dataframe\">\n",
       "  <thead>\n",
       "    <tr style=\"text-align: right;\">\n",
       "      <th></th>\n",
       "      <th>id</th>\n",
       "      <th>grp</th>\n",
       "    </tr>\n",
       "  </thead>\n",
       "  <tbody>\n",
       "    <tr>\n",
       "      <th>0</th>\n",
       "      <td>1206794</td>\n",
       "      <td>B</td>\n",
       "    </tr>\n",
       "    <tr>\n",
       "      <th>1</th>\n",
       "      <td>331024</td>\n",
       "      <td>B</td>\n",
       "    </tr>\n",
       "    <tr>\n",
       "      <th>2</th>\n",
       "      <td>1733498</td>\n",
       "      <td>A</td>\n",
       "    </tr>\n",
       "    <tr>\n",
       "      <th>3</th>\n",
       "      <td>161574</td>\n",
       "      <td>B</td>\n",
       "    </tr>\n",
       "    <tr>\n",
       "      <th>4</th>\n",
       "      <td>168443</td>\n",
       "      <td>B</td>\n",
       "    </tr>\n",
       "  </tbody>\n",
       "</table>\n",
       "</div>"
      ],
      "text/plain": [
       "        id grp\n",
       "0  1206794   B\n",
       "1   331024   B\n",
       "2  1733498   A\n",
       "3   161574   B\n",
       "4   168443   B"
      ]
     },
     "execution_count": 8,
     "metadata": {},
     "output_type": "execute_result"
    }
   ],
   "source": [
    "groups = pd.read_csv('groups.csv', sep=';')\n",
    "groups.head()"
   ]
  },
  {
   "cell_type": "code",
   "execution_count": 9,
   "id": "4d96487a",
   "metadata": {},
   "outputs": [
    {
     "data": {
      "text/html": [
       "<div>\n",
       "<style scoped>\n",
       "    .dataframe tbody tr th:only-of-type {\n",
       "        vertical-align: middle;\n",
       "    }\n",
       "\n",
       "    .dataframe tbody tr th {\n",
       "        vertical-align: top;\n",
       "    }\n",
       "\n",
       "    .dataframe thead th {\n",
       "        text-align: right;\n",
       "    }\n",
       "</style>\n",
       "<table border=\"1\" class=\"dataframe\">\n",
       "  <thead>\n",
       "    <tr style=\"text-align: right;\">\n",
       "      <th></th>\n",
       "      <th>student_id</th>\n",
       "    </tr>\n",
       "  </thead>\n",
       "  <tbody>\n",
       "    <tr>\n",
       "      <th>0</th>\n",
       "      <td>581585</td>\n",
       "    </tr>\n",
       "    <tr>\n",
       "      <th>1</th>\n",
       "      <td>5723133</td>\n",
       "    </tr>\n",
       "    <tr>\n",
       "      <th>2</th>\n",
       "      <td>3276743</td>\n",
       "    </tr>\n",
       "    <tr>\n",
       "      <th>3</th>\n",
       "      <td>4238589</td>\n",
       "    </tr>\n",
       "    <tr>\n",
       "      <th>4</th>\n",
       "      <td>4475369</td>\n",
       "    </tr>\n",
       "  </tbody>\n",
       "</table>\n",
       "</div>"
      ],
      "text/plain": [
       "   student_id\n",
       "0      581585\n",
       "1     5723133\n",
       "2     3276743\n",
       "3     4238589\n",
       "4     4475369"
      ]
     },
     "execution_count": 9,
     "metadata": {},
     "output_type": "execute_result"
    }
   ],
   "source": [
    "studs = pd.read_csv('active_studs.csv')\n",
    "studs.head()"
   ]
  },
  {
   "cell_type": "code",
   "execution_count": 10,
   "id": "eee80fc2",
   "metadata": {},
   "outputs": [
    {
     "data": {
      "text/html": [
       "<div>\n",
       "<style scoped>\n",
       "    .dataframe tbody tr th:only-of-type {\n",
       "        vertical-align: middle;\n",
       "    }\n",
       "\n",
       "    .dataframe tbody tr th {\n",
       "        vertical-align: top;\n",
       "    }\n",
       "\n",
       "    .dataframe thead th {\n",
       "        text-align: right;\n",
       "    }\n",
       "</style>\n",
       "<table border=\"1\" class=\"dataframe\">\n",
       "  <thead>\n",
       "    <tr style=\"text-align: right;\">\n",
       "      <th></th>\n",
       "      <th>student_id</th>\n",
       "      <th>rev</th>\n",
       "    </tr>\n",
       "  </thead>\n",
       "  <tbody>\n",
       "    <tr>\n",
       "      <th>0</th>\n",
       "      <td>1627</td>\n",
       "      <td>990.0</td>\n",
       "    </tr>\n",
       "    <tr>\n",
       "      <th>1</th>\n",
       "      <td>3185</td>\n",
       "      <td>690.0</td>\n",
       "    </tr>\n",
       "    <tr>\n",
       "      <th>2</th>\n",
       "      <td>25973</td>\n",
       "      <td>690.0</td>\n",
       "    </tr>\n",
       "    <tr>\n",
       "      <th>3</th>\n",
       "      <td>26280</td>\n",
       "      <td>690.0</td>\n",
       "    </tr>\n",
       "    <tr>\n",
       "      <th>4</th>\n",
       "      <td>100300</td>\n",
       "      <td>990.0</td>\n",
       "    </tr>\n",
       "  </tbody>\n",
       "</table>\n",
       "</div>"
      ],
      "text/plain": [
       "   student_id    rev\n",
       "0        1627  990.0\n",
       "1        3185  690.0\n",
       "2       25973  690.0\n",
       "3       26280  690.0\n",
       "4      100300  990.0"
      ]
     },
     "execution_count": 10,
     "metadata": {},
     "output_type": "execute_result"
    }
   ],
   "source": [
    "checks = pd.read_csv('checks.csv', sep=';')\n",
    "checks.head()"
   ]
  },
  {
   "cell_type": "markdown",
   "id": "9c80888e",
   "metadata": {},
   "source": [
    "Посмотрим на количество строк в каждом датафрейме и выведем количество пропущенных значений"
   ]
  },
  {
   "cell_type": "code",
   "execution_count": 11,
   "id": "158bc42f",
   "metadata": {},
   "outputs": [
    {
     "data": {
      "text/plain": [
       "(74576,\n",
       " id     0\n",
       " grp    0\n",
       " dtype: int64)"
      ]
     },
     "execution_count": 11,
     "metadata": {},
     "output_type": "execute_result"
    }
   ],
   "source": [
    "len(groups), groups.isna().sum()"
   ]
  },
  {
   "cell_type": "code",
   "execution_count": 12,
   "id": "e8a51eec",
   "metadata": {},
   "outputs": [
    {
     "data": {
      "text/plain": [
       "(8341,\n",
       " student_id    0\n",
       " dtype: int64)"
      ]
     },
     "execution_count": 12,
     "metadata": {},
     "output_type": "execute_result"
    }
   ],
   "source": [
    "len(studs), studs.isna().sum()"
   ]
  },
  {
   "cell_type": "code",
   "execution_count": 13,
   "id": "6b356a6f",
   "metadata": {},
   "outputs": [
    {
     "data": {
      "text/plain": [
       "(541,\n",
       " student_id    0\n",
       " rev           0\n",
       " dtype: int64)"
      ]
     },
     "execution_count": 13,
     "metadata": {},
     "output_type": "execute_result"
    }
   ],
   "source": [
    "len(checks), checks.isna().sum()"
   ]
  },
  {
   "cell_type": "markdown",
   "id": "b3c68ea7",
   "metadata": {},
   "source": [
    "Объединим датафреймы и посмотрим на кол-во пользователей в каждой группе (контрольной и тестовой).\n",
    "Для этого для начала переименуем id в student_id, чтобы объединим по данному столбцу"
   ]
  },
  {
   "cell_type": "code",
   "execution_count": 14,
   "id": "bfdea48c",
   "metadata": {},
   "outputs": [
    {
     "data": {
      "text/html": [
       "<div>\n",
       "<style scoped>\n",
       "    .dataframe tbody tr th:only-of-type {\n",
       "        vertical-align: middle;\n",
       "    }\n",
       "\n",
       "    .dataframe tbody tr th {\n",
       "        vertical-align: top;\n",
       "    }\n",
       "\n",
       "    .dataframe thead th {\n",
       "        text-align: right;\n",
       "    }\n",
       "</style>\n",
       "<table border=\"1\" class=\"dataframe\">\n",
       "  <thead>\n",
       "    <tr style=\"text-align: right;\">\n",
       "      <th></th>\n",
       "      <th>student_id</th>\n",
       "      <th>grp</th>\n",
       "    </tr>\n",
       "  </thead>\n",
       "  <tbody>\n",
       "    <tr>\n",
       "      <th>0</th>\n",
       "      <td>1206794</td>\n",
       "      <td>B</td>\n",
       "    </tr>\n",
       "    <tr>\n",
       "      <th>1</th>\n",
       "      <td>331024</td>\n",
       "      <td>B</td>\n",
       "    </tr>\n",
       "    <tr>\n",
       "      <th>2</th>\n",
       "      <td>1733498</td>\n",
       "      <td>A</td>\n",
       "    </tr>\n",
       "    <tr>\n",
       "      <th>3</th>\n",
       "      <td>161574</td>\n",
       "      <td>B</td>\n",
       "    </tr>\n",
       "    <tr>\n",
       "      <th>4</th>\n",
       "      <td>168443</td>\n",
       "      <td>B</td>\n",
       "    </tr>\n",
       "  </tbody>\n",
       "</table>\n",
       "</div>"
      ],
      "text/plain": [
       "   student_id grp\n",
       "0     1206794   B\n",
       "1      331024   B\n",
       "2     1733498   A\n",
       "3      161574   B\n",
       "4      168443   B"
      ]
     },
     "execution_count": 14,
     "metadata": {},
     "output_type": "execute_result"
    }
   ],
   "source": [
    "groups = groups.rename({'id':'student_id'}, axis=1)\n",
    "groups.head()"
   ]
  },
  {
   "cell_type": "code",
   "execution_count": 15,
   "id": "92327a86",
   "metadata": {},
   "outputs": [],
   "source": [
    "groups_checks = pd.merge(groups, checks, on='student_id')"
   ]
  },
  {
   "cell_type": "code",
   "execution_count": 16,
   "id": "3287a086",
   "metadata": {},
   "outputs": [
    {
     "data": {
      "text/html": [
       "<div>\n",
       "<style scoped>\n",
       "    .dataframe tbody tr th:only-of-type {\n",
       "        vertical-align: middle;\n",
       "    }\n",
       "\n",
       "    .dataframe tbody tr th {\n",
       "        vertical-align: top;\n",
       "    }\n",
       "\n",
       "    .dataframe thead th {\n",
       "        text-align: right;\n",
       "    }\n",
       "</style>\n",
       "<table border=\"1\" class=\"dataframe\">\n",
       "  <thead>\n",
       "    <tr style=\"text-align: right;\">\n",
       "      <th></th>\n",
       "      <th>student_id</th>\n",
       "      <th>grp</th>\n",
       "      <th>rev</th>\n",
       "    </tr>\n",
       "  </thead>\n",
       "  <tbody>\n",
       "    <tr>\n",
       "      <th>0</th>\n",
       "      <td>5378875</td>\n",
       "      <td>B</td>\n",
       "      <td>590.0</td>\n",
       "    </tr>\n",
       "    <tr>\n",
       "      <th>1</th>\n",
       "      <td>1477204</td>\n",
       "      <td>B</td>\n",
       "      <td>3040.0</td>\n",
       "    </tr>\n",
       "    <tr>\n",
       "      <th>2</th>\n",
       "      <td>3206185</td>\n",
       "      <td>B</td>\n",
       "      <td>290.0</td>\n",
       "    </tr>\n",
       "    <tr>\n",
       "      <th>3</th>\n",
       "      <td>4002619</td>\n",
       "      <td>A</td>\n",
       "      <td>2890.0</td>\n",
       "    </tr>\n",
       "    <tr>\n",
       "      <th>4</th>\n",
       "      <td>4202732</td>\n",
       "      <td>B</td>\n",
       "      <td>290.0</td>\n",
       "    </tr>\n",
       "    <tr>\n",
       "      <th>...</th>\n",
       "      <td>...</td>\n",
       "      <td>...</td>\n",
       "      <td>...</td>\n",
       "    </tr>\n",
       "    <tr>\n",
       "      <th>387</th>\n",
       "      <td>2698943</td>\n",
       "      <td>B</td>\n",
       "      <td>1388.0</td>\n",
       "    </tr>\n",
       "    <tr>\n",
       "      <th>388</th>\n",
       "      <td>720651</td>\n",
       "      <td>A</td>\n",
       "      <td>1980.0</td>\n",
       "    </tr>\n",
       "    <tr>\n",
       "      <th>389</th>\n",
       "      <td>5334403</td>\n",
       "      <td>B</td>\n",
       "      <td>840.0</td>\n",
       "    </tr>\n",
       "    <tr>\n",
       "      <th>390</th>\n",
       "      <td>4274891</td>\n",
       "      <td>B</td>\n",
       "      <td>990.0</td>\n",
       "    </tr>\n",
       "    <tr>\n",
       "      <th>391</th>\n",
       "      <td>2361862</td>\n",
       "      <td>B</td>\n",
       "      <td>290.0</td>\n",
       "    </tr>\n",
       "  </tbody>\n",
       "</table>\n",
       "<p>392 rows × 3 columns</p>\n",
       "</div>"
      ],
      "text/plain": [
       "     student_id grp     rev\n",
       "0       5378875   B   590.0\n",
       "1       1477204   B  3040.0\n",
       "2       3206185   B   290.0\n",
       "3       4002619   A  2890.0\n",
       "4       4202732   B   290.0\n",
       "..          ...  ..     ...\n",
       "387     2698943   B  1388.0\n",
       "388      720651   A  1980.0\n",
       "389     5334403   B   840.0\n",
       "390     4274891   B   990.0\n",
       "391     2361862   B   290.0\n",
       "\n",
       "[392 rows x 3 columns]"
      ]
     },
     "execution_count": 16,
     "metadata": {},
     "output_type": "execute_result"
    }
   ],
   "source": [
    "merged = pd.merge(groups_checks, studs, on='student_id')\n",
    "merged"
   ]
  },
  {
   "cell_type": "markdown",
   "id": "7fb9eebe",
   "metadata": {},
   "source": [
    "Строк стало меньше"
   ]
  },
  {
   "cell_type": "code",
   "execution_count": 17,
   "id": "2ad1a58d",
   "metadata": {},
   "outputs": [
    {
     "data": {
      "text/plain": [
       "<AxesSubplot:>"
      ]
     },
     "execution_count": 17,
     "metadata": {},
     "output_type": "execute_result"
    },
    {
     "data": {
      "image/png": "[encoded data removed]",
      "text/plain": [
       "<Figure size 432x288 with 1 Axes>"
      ]
     },
     "metadata": {
      "needs_background": "light"
     },
     "output_type": "display_data"
    }
   ],
   "source": [
    "merged[merged['grp']=='A']['rev'].hist()"
   ]
  },
  {
   "cell_type": "code",
   "execution_count": 18,
   "id": "bb398765",
   "metadata": {},
   "outputs": [
    {
     "data": {
      "text/plain": [
       "<AxesSubplot:>"
      ]
     },
     "execution_count": 18,
     "metadata": {},
     "output_type": "execute_result"
    },
    {
     "data": {
      "image/png": "[encoded data removed]",
      "text/plain": [
       "<Figure size 432x288 with 1 Axes>"
      ]
     },
     "metadata": {
      "needs_background": "light"
     },
     "output_type": "display_data"
    }
   ],
   "source": [
    "merged[merged['grp']=='B']['rev'].hist()"
   ]
  },
  {
   "cell_type": "code",
   "execution_count": 19,
   "id": "56f62acc",
   "metadata": {},
   "outputs": [],
   "source": [
    "def shapiro_test(data):\n",
    "    print(shapiro(data))\n",
    "    if shapiro(data)[1] > 0.05:\n",
    "        print('Данные распределены нормально')\n",
    "    else:\n",
    "        print('Данные распределены ненормально')"
   ]
  },
  {
   "cell_type": "code",
   "execution_count": 20,
   "id": "d346c8a8",
   "metadata": {},
   "outputs": [
    {
     "name": "stdout",
     "output_type": "stream",
     "text": [
      "ShapiroResult(statistic=0.7353236079216003, pvalue=1.4986822893803264e-10)\n",
      "Данные распределены ненормально\n"
     ]
    }
   ],
   "source": [
    "shapiro_test(merged[merged['grp']=='A']['rev'])"
   ]
  },
  {
   "cell_type": "code",
   "execution_count": 21,
   "id": "8d588d95",
   "metadata": {},
   "outputs": [
    {
     "name": "stdout",
     "output_type": "stream",
     "text": [
      "ShapiroResult(statistic=0.8547235727310181, pvalue=1.5437024585965894e-16)\n",
      "Данные распределены ненормально\n"
     ]
    }
   ],
   "source": [
    "shapiro_test(merged[merged['grp']=='B']['rev'])"
   ]
  },
  {
   "cell_type": "code",
   "execution_count": 22,
   "id": "2accba75",
   "metadata": {},
   "outputs": [],
   "source": [
    "merged[\"log_rev\"] = np.log(merged.rev)"
   ]
  },
  {
   "cell_type": "code",
   "execution_count": 23,
   "id": "36114450",
   "metadata": {},
   "outputs": [],
   "source": [
    "a_group = merged.query(\"grp == 'A'\")\n",
    "b_group = merged.query(\"grp == 'B'\")"
   ]
  },
  {
   "cell_type": "code",
   "execution_count": 24,
   "id": "725ecc2f",
   "metadata": {},
   "outputs": [
    {
     "data": {
      "text/plain": [
       "<AxesSubplot:>"
      ]
     },
     "execution_count": 24,
     "metadata": {},
     "output_type": "execute_result"
    },
    {
     "data": {
      "image/png": "[encoded data removed]",
      "text/plain": [
       "<Figure size 432x288 with 1 Axes>"
      ]
     },
     "metadata": {
      "needs_background": "light"
     },
     "output_type": "display_data"
    }
   ],
   "source": [
    "a_group.log_rev.hist()"
   ]
  },
  {
   "cell_type": "code",
   "execution_count": 25,
   "id": "b21e57c3",
   "metadata": {},
   "outputs": [
    {
     "data": {
      "text/plain": [
       "<AxesSubplot:>"
      ]
     },
     "execution_count": 25,
     "metadata": {},
     "output_type": "execute_result"
    },
    {
     "data": {
      "image/png": "[encoded data removed]",
      "text/plain": [
       "<Figure size 432x288 with 1 Axes>"
      ]
     },
     "metadata": {
      "needs_background": "light"
     },
     "output_type": "display_data"
    }
   ],
   "source": [
    "b_group.log_rev.hist()"
   ]
  },
  {
   "cell_type": "code",
   "execution_count": 26,
   "id": "f57cc560",
   "metadata": {},
   "outputs": [
    {
     "name": "stdout",
     "output_type": "stream",
     "text": [
      "ShapiroResult(statistic=0.9057686924934387, pvalue=2.680935176613275e-05)\n",
      "Данные распределены ненормально\n"
     ]
    }
   ],
   "source": [
    "shapiro_test(a_group.log_rev)"
   ]
  },
  {
   "cell_type": "code",
   "execution_count": 27,
   "id": "12b2068d",
   "metadata": {},
   "outputs": [
    {
     "name": "stdout",
     "output_type": "stream",
     "text": [
      "ShapiroResult(statistic=0.8419413566589355, pvalue=2.9242029102554055e-17)\n",
      "Данные распределены ненормально\n"
     ]
    }
   ],
   "source": [
    "shapiro_test(b_group.log_rev)"
   ]
  },
  {
   "cell_type": "markdown",
   "id": "8a33149b",
   "metadata": {},
   "source": [
    "Проверим гипотезу, что распрделение в 1 выборке соответстсвует распределению во 2 выборке с помощью теста Манна-Уитни"
   ]
  },
  {
   "cell_type": "code",
   "execution_count": 29,
   "id": "7ac5856d",
   "metadata": {},
   "outputs": [
    {
     "name": "stdout",
     "output_type": "stream",
     "text": [
      "MannwhitneyuResult(statistic=9001.0, pvalue=0.0002511393831406922)\n",
      "На основании значения p-value мы не можем отвергнуть нулевую гипотезу. Данные статистически различаются\n"
     ]
    }
   ],
   "source": [
    "print(mannwhitneyu(a_group.rev, b_group.rev))\n",
    "if mannwhitneyu(a_group.rev, b_group.rev)[1] > 0.05:\n",
    "    print('Принимаем H0, между данными нет статистически значимых различий')\n",
    "else:\n",
    "    print('На основании значения p-value мы не можем отвергнуть нулевую гипотезу. Данные статистически различаются')"
   ]
  },
  {
   "cell_type": "markdown",
   "id": "7d6c212f",
   "metadata": {},
   "source": [
    "Разница между распределениями все же есть"
   ]
  },
  {
   "cell_type": "code",
   "execution_count": null,
   "id": "c907ebf5",
   "metadata": {},
   "outputs": [],
   "source": []
  }
 ],
 "metadata": {
  "kernelspec": {
   "display_name": "Python 3",
   "language": "python",
   "name": "python3"
  },
  "language_info": {
   "codemirror_mode": {
    "name": "ipython",
    "version": 3
   },
   "file_extension": ".py",
   "mimetype": "text/x-python",
   "name": "python",
   "nbconvert_exporter": "python",
   "pygments_lexer": "ipython3",
   "version": "3.7.4"
  }
 },
 "nbformat": 4,
 "nbformat_minor": 5
}
